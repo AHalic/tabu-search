{
 "cells": [
  {
   "cell_type": "code",
   "execution_count": 1,
   "id": "44677c41",
   "metadata": {},
   "outputs": [],
   "source": [
    "import pandas as pd"
   ]
  },
  {
   "cell_type": "code",
   "execution_count": 2,
   "id": "1e94cfd2",
   "metadata": {},
   "outputs": [],
   "source": [
    "# Teste 1\n",
    "test1_data = pd.read_csv(\"teste1.csv\")"
   ]
  },
  {
   "cell_type": "code",
   "execution_count": 3,
   "id": "3f7d5100",
   "metadata": {},
   "outputs": [
    {
     "data": {
      "text/html": [
       "<div>\n",
       "<style scoped>\n",
       "    .dataframe tbody tr th:only-of-type {\n",
       "        vertical-align: middle;\n",
       "    }\n",
       "\n",
       "    .dataframe tbody tr th {\n",
       "        vertical-align: top;\n",
       "    }\n",
       "\n",
       "    .dataframe thead th {\n",
       "        text-align: right;\n",
       "    }\n",
       "</style>\n",
       "<table border=\"1\" class=\"dataframe\">\n",
       "  <thead>\n",
       "    <tr style=\"text-align: right;\">\n",
       "      <th></th>\n",
       "      <th>num_teste</th>\n",
       "      <th>caso</th>\n",
       "      <th>tenure</th>\n",
       "      <th>max_iter</th>\n",
       "      <th>sol_ini</th>\n",
       "      <th>iter_sem_mod</th>\n",
       "      <th>tempo</th>\n",
       "      <th>custo</th>\n",
       "      <th>gap</th>\n",
       "    </tr>\n",
       "  </thead>\n",
       "  <tbody>\n",
       "  </tbody>\n",
       "</table>\n",
       "</div>"
      ],
      "text/plain": [
       "Empty DataFrame\n",
       "Columns: [num_teste, caso, tenure, max_iter, sol_ini, iter_sem_mod, tempo, custo, gap]\n",
       "Index: []"
      ]
     },
     "execution_count": 3,
     "metadata": {},
     "output_type": "execute_result"
    }
   ],
   "source": [
    "test1_data"
   ]
  },
  {
   "cell_type": "code",
   "execution_count": 5,
   "id": "11c45739",
   "metadata": {},
   "outputs": [],
   "source": [
    "test1_avg = test1_data.drop(columns=['num_teste', 'tenure', 'max_iter', 'sol_in'])\n",
    "test1_avg_by_params = test1_data.drop(columns=['num_teste'])"
   ]
  },
  {
   "cell_type": "code",
   "execution_count": null,
   "id": "c5eaf0a8",
   "metadata": {},
   "outputs": [],
   "source": [
    "test1_avg = test1_avg.groupby()"
   ]
  },
  {
   "cell_type": "code",
   "execution_count": null,
   "id": "0c8008ca",
   "metadata": {},
   "outputs": [],
   "source": [
    "df.groupby(['caso', '']).sum().reset_index().groupby('id').mean()"
   ]
  }
 ],
 "metadata": {
  "kernelspec": {
   "display_name": "Python 3 (ipykernel)",
   "language": "python",
   "name": "python3"
  },
  "language_info": {
   "codemirror_mode": {
    "name": "ipython",
    "version": 3
   },
   "file_extension": ".py",
   "mimetype": "text/x-python",
   "name": "python",
   "nbconvert_exporter": "python",
   "pygments_lexer": "ipython3",
   "version": "3.8.10"
  }
 },
 "nbformat": 4,
 "nbformat_minor": 5
}
